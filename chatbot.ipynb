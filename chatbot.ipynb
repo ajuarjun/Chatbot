{
  "nbformat": 4,
  "nbformat_minor": 0,
  "metadata": {
    "colab": {
      "name": "chatbot.ipynb",
      "provenance": []
    },
    "kernelspec": {
      "name": "python3",
      "display_name": "Python 3"
    },
    "language_info": {
      "name": "python"
    }
  },
  "cells": [
    {
      "cell_type": "markdown",
      "metadata": {
        "id": "JFDX4boj9MD9"
      },
      "source": [
        "#Chatbot based on wikipedia article\n",
        "The chatbot goes through the article provided to it and gives response to the user depending on the article or returns \"sorry,i do not understand your question\"."
      ]
    },
    {
      "cell_type": "markdown",
      "metadata": {
        "id": "hVDQ_Ov69UqB"
      },
      "source": [
        "##Importing libraries and dependencies"
      ]
    },
    {
      "cell_type": "code",
      "metadata": {
        "id": "z-WIkfSD9bpW"
      },
      "source": [
        "!pip install newspaper3k"
      ],
      "execution_count": null,
      "outputs": []
    },
    {
      "cell_type": "code",
      "metadata": {
        "id": "7zzFzLru9jx5"
      },
      "source": [
        "from newspaper import Article\n",
        "import random\n",
        "import string\n",
        "import numpy as np\n",
        "import warnings\n",
        "import nltk\n",
        "from sklearn.feature_extraction.text import TfidfVectorizer\n",
        "from sklearn.metrics.pairwise import cosine_similarity"
      ],
      "execution_count": 3,
      "outputs": []
    },
    {
      "cell_type": "code",
      "metadata": {
        "colab": {
          "base_uri": "https://localhost:8080/"
        },
        "id": "ltsuuUy6932P",
        "outputId": "fb740737-935f-4f80-92ca-0e115ba88a54"
      },
      "source": [
        "nltk.download('punkt',quiet=True)\n",
        "nltk.download('wordnet',quiet=True)"
      ],
      "execution_count": 4,
      "outputs": [
        {
          "output_type": "execute_result",
          "data": {
            "text/plain": [
              "True"
            ]
          },
          "metadata": {
            "tags": []
          },
          "execution_count": 4
        }
      ]
    },
    {
      "cell_type": "markdown",
      "metadata": {
        "id": "kkASG2TXDUte"
      },
      "source": [
        "Here we are using article on Atoms."
      ]
    },
    {
      "cell_type": "code",
      "metadata": {
        "id": "fOwrljn_99HK"
      },
      "source": [
        "#downloading the article\n",
        "article= Article('https://simple.wikipedia.org/wiki/Light')\n",
        "article.download()\n",
        "article.parse()\n",
        "article.nlp()\n",
        "text=article.text"
      ],
      "execution_count": 25,
      "outputs": []
    },
    {
      "cell_type": "markdown",
      "metadata": {
        "id": "BhS8meDvDdIQ"
      },
      "source": [
        "##Preprocessing the article"
      ]
    },
    {
      "cell_type": "code",
      "metadata": {
        "colab": {
          "base_uri": "https://localhost:8080/"
        },
        "id": "W3WDX1FA_D5r",
        "outputId": "412b8fac-9f5f-4b84-93d1-fb5f5eed743f"
      },
      "source": [
        "sent_tokens=nltk.sent_tokenize(text)\n",
        "print(sent_tokens)"
      ],
      "execution_count": 26,
      "outputs": [
        {
          "output_type": "stream",
          "text": [
            "['\"Visible light\" redirects here.', 'For all parts of the electromagnetic spectrum that can be seen by the eye, see Visible spectrum\\n\\nRays of light shine through metal patterns into a railway station\\n\\nLight is a form of electromagnetic radiation with a wavelength which can be detected by the human eye.', '[1] It is a small part of the electromagnetic spectrum and radiation given off by stars like the sun.', 'Animals can also see light.', 'The study of light, known as optics, is an important research area in modern physics.', 'When light hits an opaque object it forms a shadow but when the light hits a transparent object, it passes through it almost completely without producing a shadow\\n\\nLight is electromagnetic radiation that shows properties of both waves and particles.', 'Light is a form of energy.Light also keeps the Earth warm.', 'Light exists in tiny energy packets called photons.', 'Each wave has a wavelength or frequency.', 'The human eye sees each wavelength as a different colour.', 'Rainbows show the entire spectrum of visible light.', 'The separate colors, moving in from the outer edges, are usually listed as red, orange, yellow, green, blue, indigo and violet.', 'Other colors can be seen only with special cameras or instruments: Wavelengths below the frequency of red are called infrared, and higher than of violet are called ultraviolet.', 'The other main properties of light are intensity, polarization, phase and orbital angular momentum.', 'In physics, the term light sometimes refers to electromagnetic radiation of any wavelength, whether visible or not.', '[2][3] This article is about visible light.', 'Read the electromagnetic radiation article for the general concept.', 'The law of reflection is what allows us to see an object reflected in a mirror.', 'About light [ change | change source ]\\n\\nLaser beams\\n\\nIn a vacuum, light moves at the speed of light, which is 299,792,458 meters per second[4] (or about 186,282 miles per second).', 'This means it takes about 8 minutes for light to reach Earth from the Sun.', '[5][6] In glass it travels at about two-thirds as fast.', 'Light moves in a straight line, creating shadows when the path of light is blocked.', 'More solid things will have a darker shadow, things that are more clear have a lighter shadow, and transparent things will have none or very little shadow.', 'Light can pass through transparent things the most easily.', 'When light is not in a vacuum, it travels more slowly than its maximum speed of light.', 'The slowest light ever recorded moved at 39 miles per hour.', '[7] Our eyes react to light; when we see something we see the light it reflects, or the light it emits.', 'For example, a lamp gives off light, and everything else in the same room as the lamp reflects its light.', 'Every color of light has a different wavelength.', 'The shorter the wavelength, the more energy the light has.', 'The speed at which light moves does not depend on its energy.', 'Going through partly clear objects can slow light down by a very small amount.', 'White light is made up of many different colors of light added together.', 'When white light shines through a prism, it splits up into different colors, becoming a spectrum.', 'The spectrum contains all of the wavelengths of light that we can see.', 'Red light has the longest wavelength, and violet (purple) light has the shortest.', 'Light with a wavelength shorter than violet is called ultraviolet light.', 'X-rays and gamma rays are also forms of light with even shorter wavelengths than ultraviolet.', 'Light with a wavelength longer than red is called infrared light.', 'Radio waves are a form of electromagnetic radiation with a wavelength even longer than infrared light.', 'The microwaves that are used to heat food in a microwave oven are also a form of electromagnetic radiation.', 'Our eyes cannot see those kinds of energy, but there are some cameras that can see them.', 'The various forms of light, both visible and invisible are the electromagnetic spectrum.', 'When light is refracted in raindrops, a rainbow is made.', 'The raindrop acts like a prism and refracts the light until we can see the colors of the spectrum.', 'Rainbow in Budapest shows the colors of the visible spectrum.', 'Light and color are forms of analog information.', 'However, electronic cameras and computer displays work with digital information.', 'Electronic cameras or document scanners make a digital version of a color image by separating out the full color image into separate red, green, and blue images.', 'Later, a digital display uses pixels of just those three colors.', 'Computer screens use only these three colors in different brightness levels.', 'The brain combines them to see all of the other colors in the image.', 'People think of objects as having color.', 'This is because the molecules that make up the object absorb certain light waves, leaving the other light waves to bounce off.', 'The human eye sees the wavelengths of all of the light that was not absorbed, and the combination of those leaves the brain with the impression of a color.']\n"
          ],
          "name": "stdout"
        }
      ]
    },
    {
      "cell_type": "code",
      "metadata": {
        "colab": {
          "base_uri": "https://localhost:8080/"
        },
        "id": "osyBTbWA_PKe",
        "outputId": "5df4cbd9-fd24-4943-9341-4303ef6bd53a"
      },
      "source": [
        "remove_punct_dict=dict( (ord(punct),None) for punct in string.punctuation)\n",
        "print(string.punctuation)"
      ],
      "execution_count": 27,
      "outputs": [
        {
          "output_type": "stream",
          "text": [
            "!\"#$%&'()*+,-./:;<=>?@[\\]^_`{|}~\n"
          ],
          "name": "stdout"
        }
      ]
    },
    {
      "cell_type": "code",
      "metadata": {
        "colab": {
          "base_uri": "https://localhost:8080/"
        },
        "id": "6sIjiJiL_XrZ",
        "outputId": "fad99395-31ed-4ae1-f87e-23b50b6d5b18"
      },
      "source": [
        "def LemNormalize(text):\n",
        "  return nltk.word_tokenize(text.lower().translate(remove_punct_dict))\n",
        "print(LemNormalize(text))"
      ],
      "execution_count": 28,
      "outputs": [
        {
          "output_type": "stream",
          "text": [
            "['visible', 'light', 'redirects', 'here', 'for', 'all', 'parts', 'of', 'the', 'electromagnetic', 'spectrum', 'that', 'can', 'be', 'seen', 'by', 'the', 'eye', 'see', 'visible', 'spectrum', 'rays', 'of', 'light', 'shine', 'through', 'metal', 'patterns', 'into', 'a', 'railway', 'station', 'light', 'is', 'a', 'form', 'of', 'electromagnetic', 'radiation', 'with', 'a', 'wavelength', 'which', 'can', 'be', 'detected', 'by', 'the', 'human', 'eye1', 'it', 'is', 'a', 'small', 'part', 'of', 'the', 'electromagnetic', 'spectrum', 'and', 'radiation', 'given', 'off', 'by', 'stars', 'like', 'the', 'sun', 'animals', 'can', 'also', 'see', 'light', 'the', 'study', 'of', 'light', 'known', 'as', 'optics', 'is', 'an', 'important', 'research', 'area', 'in', 'modern', 'physics', 'when', 'light', 'hits', 'an', 'opaque', 'object', 'it', 'forms', 'a', 'shadow', 'but', 'when', 'the', 'light', 'hits', 'a', 'transparent', 'object', 'it', 'passes', 'through', 'it', 'almost', 'completely', 'without', 'producing', 'a', 'shadow', 'light', 'is', 'electromagnetic', 'radiation', 'that', 'shows', 'properties', 'of', 'both', 'waves', 'and', 'particles', 'light', 'is', 'a', 'form', 'of', 'energylight', 'also', 'keeps', 'the', 'earth', 'warm', 'light', 'exists', 'in', 'tiny', 'energy', 'packets', 'called', 'photons', 'each', 'wave', 'has', 'a', 'wavelength', 'or', 'frequency', 'the', 'human', 'eye', 'sees', 'each', 'wavelength', 'as', 'a', 'different', 'colour', 'rainbows', 'show', 'the', 'entire', 'spectrum', 'of', 'visible', 'light', 'the', 'separate', 'colors', 'moving', 'in', 'from', 'the', 'outer', 'edges', 'are', 'usually', 'listed', 'as', 'red', 'orange', 'yellow', 'green', 'blue', 'indigo', 'and', 'violet', 'other', 'colors', 'can', 'be', 'seen', 'only', 'with', 'special', 'cameras', 'or', 'instruments', 'wavelengths', 'below', 'the', 'frequency', 'of', 'red', 'are', 'called', 'infrared', 'and', 'higher', 'than', 'of', 'violet', 'are', 'called', 'ultraviolet', 'the', 'other', 'main', 'properties', 'of', 'light', 'are', 'intensity', 'polarization', 'phase', 'and', 'orbital', 'angular', 'momentum', 'in', 'physics', 'the', 'term', 'light', 'sometimes', 'refers', 'to', 'electromagnetic', 'radiation', 'of', 'any', 'wavelength', 'whether', 'visible', 'or', 'not23', 'this', 'article', 'is', 'about', 'visible', 'light', 'read', 'the', 'electromagnetic', 'radiation', 'article', 'for', 'the', 'general', 'concept', 'the', 'law', 'of', 'reflection', 'is', 'what', 'allows', 'us', 'to', 'see', 'an', 'object', 'reflected', 'in', 'a', 'mirror', 'about', 'light', 'change', 'change', 'source', 'laser', 'beams', 'in', 'a', 'vacuum', 'light', 'moves', 'at', 'the', 'speed', 'of', 'light', 'which', 'is', '299792458', 'meters', 'per', 'second4', 'or', 'about', '186282', 'miles', 'per', 'second', 'this', 'means', 'it', 'takes', 'about', '8', 'minutes', 'for', 'light', 'to', 'reach', 'earth', 'from', 'the', 'sun56', 'in', 'glass', 'it', 'travels', 'at', 'about', 'twothirds', 'as', 'fast', 'light', 'moves', 'in', 'a', 'straight', 'line', 'creating', 'shadows', 'when', 'the', 'path', 'of', 'light', 'is', 'blocked', 'more', 'solid', 'things', 'will', 'have', 'a', 'darker', 'shadow', 'things', 'that', 'are', 'more', 'clear', 'have', 'a', 'lighter', 'shadow', 'and', 'transparent', 'things', 'will', 'have', 'none', 'or', 'very', 'little', 'shadow', 'light', 'can', 'pass', 'through', 'transparent', 'things', 'the', 'most', 'easily', 'when', 'light', 'is', 'not', 'in', 'a', 'vacuum', 'it', 'travels', 'more', 'slowly', 'than', 'its', 'maximum', 'speed', 'of', 'light', 'the', 'slowest', 'light', 'ever', 'recorded', 'moved', 'at', '39', 'miles', 'per', 'hour7', 'our', 'eyes', 'react', 'to', 'light', 'when', 'we', 'see', 'something', 'we', 'see', 'the', 'light', 'it', 'reflects', 'or', 'the', 'light', 'it', 'emits', 'for', 'example', 'a', 'lamp', 'gives', 'off', 'light', 'and', 'everything', 'else', 'in', 'the', 'same', 'room', 'as', 'the', 'lamp', 'reflects', 'its', 'light', 'every', 'color', 'of', 'light', 'has', 'a', 'different', 'wavelength', 'the', 'shorter', 'the', 'wavelength', 'the', 'more', 'energy', 'the', 'light', 'has', 'the', 'speed', 'at', 'which', 'light', 'moves', 'does', 'not', 'depend', 'on', 'its', 'energy', 'going', 'through', 'partly', 'clear', 'objects', 'can', 'slow', 'light', 'down', 'by', 'a', 'very', 'small', 'amount', 'white', 'light', 'is', 'made', 'up', 'of', 'many', 'different', 'colors', 'of', 'light', 'added', 'together', 'when', 'white', 'light', 'shines', 'through', 'a', 'prism', 'it', 'splits', 'up', 'into', 'different', 'colors', 'becoming', 'a', 'spectrum', 'the', 'spectrum', 'contains', 'all', 'of', 'the', 'wavelengths', 'of', 'light', 'that', 'we', 'can', 'see', 'red', 'light', 'has', 'the', 'longest', 'wavelength', 'and', 'violet', 'purple', 'light', 'has', 'the', 'shortest', 'light', 'with', 'a', 'wavelength', 'shorter', 'than', 'violet', 'is', 'called', 'ultraviolet', 'light', 'xrays', 'and', 'gamma', 'rays', 'are', 'also', 'forms', 'of', 'light', 'with', 'even', 'shorter', 'wavelengths', 'than', 'ultraviolet', 'light', 'with', 'a', 'wavelength', 'longer', 'than', 'red', 'is', 'called', 'infrared', 'light', 'radio', 'waves', 'are', 'a', 'form', 'of', 'electromagnetic', 'radiation', 'with', 'a', 'wavelength', 'even', 'longer', 'than', 'infrared', 'light', 'the', 'microwaves', 'that', 'are', 'used', 'to', 'heat', 'food', 'in', 'a', 'microwave', 'oven', 'are', 'also', 'a', 'form', 'of', 'electromagnetic', 'radiation', 'our', 'eyes', 'can', 'not', 'see', 'those', 'kinds', 'of', 'energy', 'but', 'there', 'are', 'some', 'cameras', 'that', 'can', 'see', 'them', 'the', 'various', 'forms', 'of', 'light', 'both', 'visible', 'and', 'invisible', 'are', 'the', 'electromagnetic', 'spectrum', 'when', 'light', 'is', 'refracted', 'in', 'raindrops', 'a', 'rainbow', 'is', 'made', 'the', 'raindrop', 'acts', 'like', 'a', 'prism', 'and', 'refracts', 'the', 'light', 'until', 'we', 'can', 'see', 'the', 'colors', 'of', 'the', 'spectrum', 'rainbow', 'in', 'budapest', 'shows', 'the', 'colors', 'of', 'the', 'visible', 'spectrum', 'light', 'and', 'color', 'are', 'forms', 'of', 'analog', 'information', 'however', 'electronic', 'cameras', 'and', 'computer', 'displays', 'work', 'with', 'digital', 'information', 'electronic', 'cameras', 'or', 'document', 'scanners', 'make', 'a', 'digital', 'version', 'of', 'a', 'color', 'image', 'by', 'separating', 'out', 'the', 'full', 'color', 'image', 'into', 'separate', 'red', 'green', 'and', 'blue', 'images', 'later', 'a', 'digital', 'display', 'uses', 'pixels', 'of', 'just', 'those', 'three', 'colors', 'computer', 'screens', 'use', 'only', 'these', 'three', 'colors', 'in', 'different', 'brightness', 'levels', 'the', 'brain', 'combines', 'them', 'to', 'see', 'all', 'of', 'the', 'other', 'colors', 'in', 'the', 'image', 'people', 'think', 'of', 'objects', 'as', 'having', 'color', 'this', 'is', 'because', 'the', 'molecules', 'that', 'make', 'up', 'the', 'object', 'absorb', 'certain', 'light', 'waves', 'leaving', 'the', 'other', 'light', 'waves', 'to', 'bounce', 'off', 'the', 'human', 'eye', 'sees', 'the', 'wavelengths', 'of', 'all', 'of', 'the', 'light', 'that', 'was', 'not', 'absorbed', 'and', 'the', 'combination', 'of', 'those', 'leaves', 'the', 'brain', 'with', 'the', 'impression', 'of', 'a', 'color']\n"
          ],
          "name": "stdout"
        }
      ]
    },
    {
      "cell_type": "markdown",
      "metadata": {
        "id": "WI6pXmecGt3E"
      },
      "source": [
        "##Creating bot"
      ]
    },
    {
      "cell_type": "code",
      "metadata": {
        "id": "aucChNO7_eFs"
      },
      "source": [
        "greeting_input=[\"hi\",\"hello\",\"hey\",\"hola\"]\n",
        "greeting_response=[\"heeyyy ;)\",\"hi\",\"hello :)\"]\n",
        "def greeting(sentence):\n",
        "  for word in sentence.split():\n",
        "    if word.lower() in greeting_input:\n",
        "      return random.choice(greeting_response)"
      ],
      "execution_count": 29,
      "outputs": []
    },
    {
      "cell_type": "code",
      "metadata": {
        "id": "o3T0TxQL_kLK"
      },
      "source": [
        "def response(user_response):\n",
        "  user_response=user_response.lower()\n",
        "  robo_response=''\n",
        "  sent_tokens.append(user_response)\n",
        "  tfidfvec=TfidfVectorizer(tokenizer=LemNormalize , stop_words='english')\n",
        "  tfidf=tfidfvec.fit_transform(sent_tokens)\n",
        "\n",
        "  val=cosine_similarity(tfidf[-1],tfidf)\n",
        "  idx=val.argsort()[0][-2]\n",
        "  flat=val.flatten()\n",
        "  flat.sort()\n",
        "  score=flat[-2]\n",
        "  if score==0:\n",
        "    robo_response=robo_response+\"sorry,i do not understand your question\"\n",
        "  else:\n",
        "    robo_response=robo_response+sent_tokens[idx]\n",
        "\n",
        "  sent_tokens.remove(user_response)\n",
        "  return robo_response"
      ],
      "execution_count": 30,
      "outputs": []
    },
    {
      "cell_type": "code",
      "metadata": {
        "colab": {
          "base_uri": "https://localhost:8080/"
        },
        "id": "7UQQso9-_oS4",
        "outputId": "bdc281e6-fc51-46e2-a3f1-e408cb0dda83"
      },
      "source": [
        "flag=True\n",
        "print(\"hello!!! this is bot-T,i can answer your queris related to light, type bye to exit\")\n",
        "while(flag==True):\n",
        "  user_response=input(\"cherry:\")\n",
        "  user_response=user_response.lower()\n",
        "  if(user_response!='bye'):\n",
        "    if(user_response=='thanks' or user_response=='thank you'):\n",
        "      flag=False\n",
        "      print(\"bot-T: anytime :)\")\n",
        "    else:\n",
        "       if( greeting(user_response) != None):\n",
        "         print(\"bot-T: \"+ greeting(user_response))\n",
        "       else:\n",
        "         print(\"bot-T:\"+response(user_response))\n",
        "  else:\n",
        "    flag=False\n",
        "    print(\"bot-T: see you later :)\")"
      ],
      "execution_count": 33,
      "outputs": [
        {
          "output_type": "stream",
          "text": [
            "hello!!! this is bot-T,i can answer your queris related to light, type bye to exit\n",
            "cherry:hi\n",
            "bot-T: hello :)\n",
            "cherry:what are photons\n",
            "bot-T:Light exists in tiny energy packets called photons.\n",
            "cherry:what is optics\n",
            "bot-T:The study of light, known as optics, is an important research area in modern physics.\n",
            "cherry:thank you\n",
            "bot-T: anytime :)\n"
          ],
          "name": "stdout"
        }
      ]
    }
  ]
}